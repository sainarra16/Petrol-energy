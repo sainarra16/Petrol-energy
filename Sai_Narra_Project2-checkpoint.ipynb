{
 "cells": [
  {
   "cell_type": "code",
   "execution_count": 1,
   "id": "76e80682-9333-4ee5-b5d2-7fbdae26de70",
   "metadata": {},
   "outputs": [
    {
     "name": "stdout",
     "output_type": "stream",
     "text": [
      "C:\\Users\\saina\n"
     ]
    }
   ],
   "source": [
    "cd"
   ]
  },
  {
   "cell_type": "code",
   "execution_count": 2,
   "id": "75fa5037-cafe-431d-8d59-c72f6382d3f3",
   "metadata": {},
   "outputs": [
    {
     "name": "stdout",
     "output_type": "stream",
     "text": [
      "2024-11-17 12:26:58.114640\n"
     ]
    }
   ],
   "source": [
    "import datetime\n",
    "print(datetime.datetime.now())"
   ]
  },
  {
   "cell_type": "code",
   "execution_count": 3,
   "id": "5e9e2071-bb46-4a57-b384-4d38bfd50dc0",
   "metadata": {},
   "outputs": [],
   "source": [
    "import pandas as pd\n",
    "import wrds"
   ]
  },
  {
   "cell_type": "code",
   "execution_count": 4,
   "id": "f63f95e1-974c-472b-901c-7e43bbbe2a7c",
   "metadata": {},
   "outputs": [
    {
     "name": "stdin",
     "output_type": "stream",
     "text": [
      "Enter your WRDS username [saina]: sainarra\n",
      "Enter your password: ········\n"
     ]
    },
    {
     "name": "stdout",
     "output_type": "stream",
     "text": [
      "WRDS recommends setting up a .pgpass file.\n"
     ]
    },
    {
     "name": "stdin",
     "output_type": "stream",
     "text": [
      "Create .pgpass file now [y/n]?:  n\n"
     ]
    },
    {
     "name": "stdout",
     "output_type": "stream",
     "text": [
      "You can create this file yourself at any time with the create_pgpass_file() function.\n",
      "Loading library list...\n",
      "Done\n"
     ]
    }
   ],
   "source": [
    "conn=wrds.Connection()"
   ]
  },
  {
   "cell_type": "code",
   "execution_count": 5,
   "id": "bcc7520a-f80b-438d-a14c-384077c339e6",
   "metadata": {},
   "outputs": [],
   "source": [
    "info_crsp=conn.get_table(library='crsp', table='stocknames', columns =['siccd', 'permno', 'ticker','comnam', 'cusip','namedt'])"
   ]
  },
  {
   "cell_type": "code",
   "execution_count": 6,
   "id": "546f315d-3d09-432a-824e-a89a69bef349",
   "metadata": {},
   "outputs": [
    {
     "data": {
      "text/html": [
       "<div>\n",
       "<style scoped>\n",
       "    .dataframe tbody tr th:only-of-type {\n",
       "        vertical-align: middle;\n",
       "    }\n",
       "\n",
       "    .dataframe tbody tr th {\n",
       "        vertical-align: top;\n",
       "    }\n",
       "\n",
       "    .dataframe thead th {\n",
       "        text-align: right;\n",
       "    }\n",
       "</style>\n",
       "<table border=\"1\" class=\"dataframe\">\n",
       "  <thead>\n",
       "    <tr style=\"text-align: right;\">\n",
       "      <th></th>\n",
       "      <th>siccd</th>\n",
       "      <th>permno</th>\n",
       "      <th>ticker</th>\n",
       "      <th>comnam</th>\n",
       "      <th>cusip</th>\n",
       "      <th>namedt</th>\n",
       "    </tr>\n",
       "  </thead>\n",
       "  <tbody>\n",
       "    <tr>\n",
       "      <th>0</th>\n",
       "      <td>3990</td>\n",
       "      <td>10000</td>\n",
       "      <td>OMFGA</td>\n",
       "      <td>OPTIMUM MANUFACTURING INC</td>\n",
       "      <td>68391610</td>\n",
       "      <td>1986-01-07</td>\n",
       "    </tr>\n",
       "    <tr>\n",
       "      <th>1</th>\n",
       "      <td>4920</td>\n",
       "      <td>10001</td>\n",
       "      <td>GFGC</td>\n",
       "      <td>GREAT FALLS GAS CO</td>\n",
       "      <td>36720410</td>\n",
       "      <td>1986-01-09</td>\n",
       "    </tr>\n",
       "    <tr>\n",
       "      <th>2</th>\n",
       "      <td>4920</td>\n",
       "      <td>10001</td>\n",
       "      <td>EWST</td>\n",
       "      <td>ENERGY WEST INC</td>\n",
       "      <td>36720410</td>\n",
       "      <td>1993-11-22</td>\n",
       "    </tr>\n",
       "    <tr>\n",
       "      <th>3</th>\n",
       "      <td>4920</td>\n",
       "      <td>10001</td>\n",
       "      <td>EWST</td>\n",
       "      <td>ENERGY WEST INC</td>\n",
       "      <td>36720410</td>\n",
       "      <td>2008-02-05</td>\n",
       "    </tr>\n",
       "    <tr>\n",
       "      <th>4</th>\n",
       "      <td>4920</td>\n",
       "      <td>10001</td>\n",
       "      <td>EGAS</td>\n",
       "      <td>ENERGY INC</td>\n",
       "      <td>36720410</td>\n",
       "      <td>2009-08-04</td>\n",
       "    </tr>\n",
       "    <tr>\n",
       "      <th>...</th>\n",
       "      <td>...</td>\n",
       "      <td>...</td>\n",
       "      <td>...</td>\n",
       "      <td>...</td>\n",
       "      <td>...</td>\n",
       "      <td>...</td>\n",
       "    </tr>\n",
       "    <tr>\n",
       "      <th>80785</th>\n",
       "      <td>9999</td>\n",
       "      <td>93433</td>\n",
       "      <td>VLTC</td>\n",
       "      <td>VOLTARI CORP</td>\n",
       "      <td>92870X30</td>\n",
       "      <td>2013-04-24</td>\n",
       "    </tr>\n",
       "    <tr>\n",
       "      <th>80786</th>\n",
       "      <td>9999</td>\n",
       "      <td>93434</td>\n",
       "      <td>SANW</td>\n",
       "      <td>S &amp; W SEED CO</td>\n",
       "      <td>78513510</td>\n",
       "      <td>2010-06-14</td>\n",
       "    </tr>\n",
       "    <tr>\n",
       "      <th>80787</th>\n",
       "      <td>6163</td>\n",
       "      <td>93435</td>\n",
       "      <td>SCEI</td>\n",
       "      <td>SINO CLEAN ENERGY INC</td>\n",
       "      <td>82936G20</td>\n",
       "      <td>2010-06-14</td>\n",
       "    </tr>\n",
       "    <tr>\n",
       "      <th>80788</th>\n",
       "      <td>9999</td>\n",
       "      <td>93436</td>\n",
       "      <td>TSLA</td>\n",
       "      <td>TESLA MOTORS INC</td>\n",
       "      <td>88160R10</td>\n",
       "      <td>2010-06-29</td>\n",
       "    </tr>\n",
       "    <tr>\n",
       "      <th>80789</th>\n",
       "      <td>9999</td>\n",
       "      <td>93436</td>\n",
       "      <td>TSLA</td>\n",
       "      <td>TESLA INC</td>\n",
       "      <td>88160R10</td>\n",
       "      <td>2017-02-02</td>\n",
       "    </tr>\n",
       "  </tbody>\n",
       "</table>\n",
       "<p>80790 rows × 6 columns</p>\n",
       "</div>"
      ],
      "text/plain": [
       "       siccd  permno ticker                     comnam     cusip      namedt\n",
       "0       3990   10000  OMFGA  OPTIMUM MANUFACTURING INC  68391610  1986-01-07\n",
       "1       4920   10001   GFGC         GREAT FALLS GAS CO  36720410  1986-01-09\n",
       "2       4920   10001   EWST            ENERGY WEST INC  36720410  1993-11-22\n",
       "3       4920   10001   EWST            ENERGY WEST INC  36720410  2008-02-05\n",
       "4       4920   10001   EGAS                 ENERGY INC  36720410  2009-08-04\n",
       "...      ...     ...    ...                        ...       ...         ...\n",
       "80785   9999   93433   VLTC               VOLTARI CORP  92870X30  2013-04-24\n",
       "80786   9999   93434   SANW              S & W SEED CO  78513510  2010-06-14\n",
       "80787   6163   93435   SCEI      SINO CLEAN ENERGY INC  82936G20  2010-06-14\n",
       "80788   9999   93436   TSLA           TESLA MOTORS INC  88160R10  2010-06-29\n",
       "80789   9999   93436   TSLA                  TESLA INC  88160R10  2017-02-02\n",
       "\n",
       "[80790 rows x 6 columns]"
      ]
     },
     "execution_count": 6,
     "metadata": {},
     "output_type": "execute_result"
    }
   ],
   "source": [
    "info_crsp"
   ]
  },
  {
   "cell_type": "code",
   "execution_count": 7,
   "id": "4162c1f4-0b09-4e7e-b732-0cac2f9110b2",
   "metadata": {},
   "outputs": [
    {
     "name": "stdout",
     "output_type": "stream",
     "text": [
      "      siccd  permno ticker            comnam     cusip      namedt\n",
      "4476   2911   11850    XOM  EXXON MOBIL CORP  30231G10  1999-12-01\n",
      "4477   1311   11850    XOM  EXXON MOBIL CORP  30231G10  2016-12-19\n",
      "4478   2911   11850    XOM  EXXON MOBIL CORP  30231G10  2019-09-11\n"
     ]
    }
   ],
   "source": [
    "XOM_data=info_crsp[info_crsp['ticker']=='XOM']\n",
    "print(XOM_data)"
   ]
  },
  {
   "cell_type": "code",
   "execution_count": 8,
   "id": "7be6214f-0fdf-4e52-8b98-09eca857cd61",
   "metadata": {},
   "outputs": [],
   "source": [
    "# Format\n",
    "df= pd.DataFrame(XOM_data)"
   ]
  },
  {
   "cell_type": "code",
   "execution_count": 9,
   "id": "a1ba635e-6462-4078-81ba-450f97240bb2",
   "metadata": {},
   "outputs": [],
   "source": [
    "df['namedt']= pd.to_datetime(df['namedt'])"
   ]
  },
  {
   "cell_type": "code",
   "execution_count": 10,
   "id": "5fe34fe2-7888-4caf-aff0-cc16d7dc1ca2",
   "metadata": {},
   "outputs": [
    {
     "data": {
      "text/html": [
       "<div>\n",
       "<style scoped>\n",
       "    .dataframe tbody tr th:only-of-type {\n",
       "        vertical-align: middle;\n",
       "    }\n",
       "\n",
       "    .dataframe tbody tr th {\n",
       "        vertical-align: top;\n",
       "    }\n",
       "\n",
       "    .dataframe thead th {\n",
       "        text-align: right;\n",
       "    }\n",
       "</style>\n",
       "<table border=\"1\" class=\"dataframe\">\n",
       "  <thead>\n",
       "    <tr style=\"text-align: right;\">\n",
       "      <th></th>\n",
       "      <th>siccd</th>\n",
       "      <th>permno</th>\n",
       "      <th>ticker</th>\n",
       "      <th>comnam</th>\n",
       "      <th>cusip</th>\n",
       "      <th>namedt</th>\n",
       "    </tr>\n",
       "  </thead>\n",
       "  <tbody>\n",
       "    <tr>\n",
       "      <th>4476</th>\n",
       "      <td>2911</td>\n",
       "      <td>11850</td>\n",
       "      <td>XOM</td>\n",
       "      <td>EXXON MOBIL CORP</td>\n",
       "      <td>30231G10</td>\n",
       "      <td>1999-12-01</td>\n",
       "    </tr>\n",
       "    <tr>\n",
       "      <th>4477</th>\n",
       "      <td>1311</td>\n",
       "      <td>11850</td>\n",
       "      <td>XOM</td>\n",
       "      <td>EXXON MOBIL CORP</td>\n",
       "      <td>30231G10</td>\n",
       "      <td>2016-12-19</td>\n",
       "    </tr>\n",
       "    <tr>\n",
       "      <th>4478</th>\n",
       "      <td>2911</td>\n",
       "      <td>11850</td>\n",
       "      <td>XOM</td>\n",
       "      <td>EXXON MOBIL CORP</td>\n",
       "      <td>30231G10</td>\n",
       "      <td>2019-09-11</td>\n",
       "    </tr>\n",
       "  </tbody>\n",
       "</table>\n",
       "</div>"
      ],
      "text/plain": [
       "      siccd  permno ticker            comnam     cusip     namedt\n",
       "4476   2911   11850    XOM  EXXON MOBIL CORP  30231G10 1999-12-01\n",
       "4477   1311   11850    XOM  EXXON MOBIL CORP  30231G10 2016-12-19\n",
       "4478   2911   11850    XOM  EXXON MOBIL CORP  30231G10 2019-09-11"
      ]
     },
     "execution_count": 10,
     "metadata": {},
     "output_type": "execute_result"
    }
   ],
   "source": [
    "df"
   ]
  },
  {
   "cell_type": "code",
   "execution_count": 11,
   "id": "a6f2763d-31d2-48b5-b545-02de674acf8d",
   "metadata": {},
   "outputs": [
    {
     "name": "stdout",
     "output_type": "stream",
     "text": [
      "<class 'pandas.core.series.Series'>\n",
      "Index: 3 entries, 4476 to 4478\n",
      "Series name: namedt\n",
      "Non-Null Count  Dtype         \n",
      "--------------  -----         \n",
      "3 non-null      datetime64[ns]\n",
      "dtypes: datetime64[ns](1)\n",
      "memory usage: 48.0 bytes\n"
     ]
    }
   ],
   "source": [
    "df['namedt'].info()"
   ]
  },
  {
   "cell_type": "code",
   "execution_count": 12,
   "id": "8270650a-2821-4b28-acab-d1a8d6d385db",
   "metadata": {},
   "outputs": [
    {
     "name": "stdout",
     "output_type": "stream",
     "text": [
      "<class 'pandas.core.frame.DataFrame'>\n",
      "Index: 3 entries, 4476 to 4478\n",
      "Data columns (total 6 columns):\n",
      " #   Column  Non-Null Count  Dtype \n",
      "---  ------  --------------  ----- \n",
      " 0   siccd   3 non-null      int64 \n",
      " 1   permno  3 non-null      int64 \n",
      " 2   ticker  3 non-null      object\n",
      " 3   comnam  3 non-null      object\n",
      " 4   cusip   3 non-null      object\n",
      " 5   namedt  3 non-null      object\n",
      "dtypes: int64(2), object(4)\n",
      "memory usage: 168.0+ bytes\n"
     ]
    }
   ],
   "source": [
    "XOM_data.info()"
   ]
  },
  {
   "cell_type": "code",
   "execution_count": 13,
   "id": "60ad0afa-8750-4fcc-958a-3cc3f8279321",
   "metadata": {},
   "outputs": [
    {
     "data": {
      "text/plain": [
       "4476    False\n",
       "4477    False\n",
       "4478    False\n",
       "dtype: bool"
      ]
     },
     "execution_count": 13,
     "metadata": {},
     "output_type": "execute_result"
    }
   ],
   "source": [
    "# Duplicates\n",
    "d=XOM_data\n",
    "d.duplicated()"
   ]
  },
  {
   "cell_type": "code",
   "execution_count": 14,
   "id": "979048b8-4023-408a-82cd-05ef10bd680f",
   "metadata": {},
   "outputs": [
    {
     "data": {
      "text/plain": [
       "4476    False\n",
       "4477    False\n",
       "4478    False\n",
       "dtype: bool"
      ]
     },
     "execution_count": 14,
     "metadata": {},
     "output_type": "execute_result"
    }
   ],
   "source": [
    "d.duplicated(['permno', 'namedt'])"
   ]
  },
  {
   "cell_type": "code",
   "execution_count": 15,
   "id": "236d19aa-ed84-4002-8d89-f042da89b4f1",
   "metadata": {},
   "outputs": [],
   "source": [
    "df_sorted = df.sort_values(by=['permno', 'namedt'])"
   ]
  },
  {
   "cell_type": "code",
   "execution_count": 16,
   "id": "d2991931-88fa-4569-99c5-c58724b7ff93",
   "metadata": {},
   "outputs": [
    {
     "name": "stdout",
     "output_type": "stream",
     "text": [
      "Sorted DataFrame based on 'permno' and 'namedt':\n",
      "       siccd  permno ticker            comnam     cusip     namedt\n",
      "4476   2911   11850    XOM  EXXON MOBIL CORP  30231G10 1999-12-01\n",
      "4477   1311   11850    XOM  EXXON MOBIL CORP  30231G10 2016-12-19\n",
      "4478   2911   11850    XOM  EXXON MOBIL CORP  30231G10 2019-09-11\n"
     ]
    }
   ],
   "source": [
    "print(\"Sorted DataFrame based on 'permno' and 'namedt':\\n\", df_sorted)"
   ]
  },
  {
   "cell_type": "code",
   "execution_count": 17,
   "id": "3ddf9d86-5977-4d87-942c-632919197545",
   "metadata": {},
   "outputs": [
    {
     "name": "stdout",
     "output_type": "stream",
     "text": [
      "There are no duplicates across all columns.\n"
     ]
    }
   ],
   "source": [
    "df = pd.DataFrame(XOM_data)\n",
    "df = df.drop_duplicates(keep='last')\n",
    "df = df.drop_duplicates(subset=['permno', 'namedt'], keep='last')\n",
    "duplicates_columns = df.duplicated()\n",
    "if duplicates_columns.any():\n",
    "    print(\"There are duplicates across all columns.\")\n",
    "else:\n",
    "    print(\"There are no duplicates across all columns.\")"
   ]
  },
  {
   "cell_type": "code",
   "execution_count": 18,
   "id": "747c0072-17e4-441c-9024-f18f502c6fdc",
   "metadata": {},
   "outputs": [
    {
     "name": "stdout",
     "output_type": "stream",
     "text": [
      "<class 'pandas.core.frame.DataFrame'>\n",
      "Index: 3 entries, 4476 to 4478\n",
      "Data columns (total 6 columns):\n",
      " #   Column  Non-Null Count  Dtype \n",
      "---  ------  --------------  ----- \n",
      " 0   siccd   3 non-null      int64 \n",
      " 1   permno  3 non-null      int64 \n",
      " 2   ticker  3 non-null      object\n",
      " 3   comnam  3 non-null      object\n",
      " 4   cusip   3 non-null      object\n",
      " 5   namedt  3 non-null      object\n",
      "dtypes: int64(2), object(4)\n",
      "memory usage: 168.0+ bytes\n"
     ]
    }
   ],
   "source": [
    "XOM_data.info()"
   ]
  },
  {
   "cell_type": "code",
   "execution_count": 19,
   "id": "0c234c8c-c7af-4eae-b198-dac4c86bd6fe",
   "metadata": {},
   "outputs": [
    {
     "name": "stdout",
     "output_type": "stream",
     "text": [
      "Number of unique companies are: 1\n"
     ]
    }
   ],
   "source": [
    "unique_companies = XOM_data['permno'].nunique()\n",
    "print(\"Number of unique companies are:\", unique_companies)"
   ]
  },
  {
   "cell_type": "code",
   "execution_count": 20,
   "id": "c024ae44-3727-44e3-b7e1-5c45836894d6",
   "metadata": {},
   "outputs": [],
   "source": [
    "# 13) The data contains is cross-sectional data it contains information on distinct entities.\n",
    "# Long format data represents each row a single observation or unique entity,\n",
    "# The table has 4 unique entries. Wide format usually has one row per unique entity, with each varaible spread across multiple colums.\n",
    "# here columns represent attributes of entities.\n",
    "# A dataset closer to being \"between long and wide\" is often described as panel data \n",
    "# (cross-sectional time series), where each row includes data for one entity at one time point or condition. "
   ]
  },
  {
   "cell_type": "code",
   "execution_count": 21,
   "id": "35a62e5b-a078-424b-ac0f-08af80b2469d",
   "metadata": {},
   "outputs": [],
   "source": [
    "# 14) .The data contains is cross-sectional data because each row uniquely identifies an entity using primary keys like permno and ticker.\n",
    "# If the data contained multiple times for one entity, it would be time series data, or panel data\n",
    "# if there were multiple entities observed multiple times.\n",
    "# There is no time dimension here, so it's cross-sectional data."
   ]
  },
  {
   "cell_type": "code",
   "execution_count": 22,
   "id": "33a85b33-2e9e-4b36-bac0-abffaae978cb",
   "metadata": {},
   "outputs": [],
   "source": [
    "# PART 2"
   ]
  },
  {
   "cell_type": "code",
   "execution_count": 23,
   "id": "ee39b024-e4e0-4a84-9263-5ed173493c8d",
   "metadata": {},
   "outputs": [],
   "source": [
    "permno_subset = info_crsp[['permno']]"
   ]
  },
  {
   "cell_type": "code",
   "execution_count": 24,
   "id": "92029edc-2066-415c-9156-fe5d408d86d3",
   "metadata": {},
   "outputs": [],
   "source": [
    "crsp_out = pd.DataFrame(permno_subset)\n",
    "crsp_out['eventdate'] = '2023-10-07'  \n"
   ]
  },
  {
   "cell_type": "code",
   "execution_count": 25,
   "id": "f4dcb6c1-030a-457a-b57b-55e0cb87ddee",
   "metadata": {},
   "outputs": [
    {
     "data": {
      "text/html": [
       "<div>\n",
       "<style scoped>\n",
       "    .dataframe tbody tr th:only-of-type {\n",
       "        vertical-align: middle;\n",
       "    }\n",
       "\n",
       "    .dataframe tbody tr th {\n",
       "        vertical-align: top;\n",
       "    }\n",
       "\n",
       "    .dataframe thead th {\n",
       "        text-align: right;\n",
       "    }\n",
       "</style>\n",
       "<table border=\"1\" class=\"dataframe\">\n",
       "  <thead>\n",
       "    <tr style=\"text-align: right;\">\n",
       "      <th></th>\n",
       "      <th>permno</th>\n",
       "      <th>eventdate</th>\n",
       "    </tr>\n",
       "  </thead>\n",
       "  <tbody>\n",
       "    <tr>\n",
       "      <th>0</th>\n",
       "      <td>10000</td>\n",
       "      <td>2023-10-07</td>\n",
       "    </tr>\n",
       "    <tr>\n",
       "      <th>1</th>\n",
       "      <td>10001</td>\n",
       "      <td>2023-10-07</td>\n",
       "    </tr>\n",
       "    <tr>\n",
       "      <th>2</th>\n",
       "      <td>10001</td>\n",
       "      <td>2023-10-07</td>\n",
       "    </tr>\n",
       "    <tr>\n",
       "      <th>3</th>\n",
       "      <td>10001</td>\n",
       "      <td>2023-10-07</td>\n",
       "    </tr>\n",
       "    <tr>\n",
       "      <th>4</th>\n",
       "      <td>10001</td>\n",
       "      <td>2023-10-07</td>\n",
       "    </tr>\n",
       "  </tbody>\n",
       "</table>\n",
       "</div>"
      ],
      "text/plain": [
       "   permno   eventdate\n",
       "0   10000  2023-10-07\n",
       "1   10001  2023-10-07\n",
       "2   10001  2023-10-07\n",
       "3   10001  2023-10-07\n",
       "4   10001  2023-10-07"
      ]
     },
     "execution_count": 25,
     "metadata": {},
     "output_type": "execute_result"
    }
   ],
   "source": [
    "crsp_out.head()"
   ]
  },
  {
   "cell_type": "code",
   "execution_count": 26,
   "id": "13aeddd4-fca2-4592-935e-d23f93d27433",
   "metadata": {},
   "outputs": [
    {
     "name": "stdout",
     "output_type": "stream",
     "text": [
      "File saved to C:\\Users\\saina\\Downloads\\crsp_out_data.txt\n"
     ]
    }
   ],
   "source": [
    "# Define the path to where you want to download with .txt extension\n",
    "\n",
    "file_path = r\"C:\\Users\\saina\\Downloads\\crsp_out_data.txt\"\n",
    "\n",
    "\n",
    "crsp_out.to_csv(file_path, sep='\\t', index=False)\n",
    "\n",
    "print(f\"File saved to {file_path}\")"
   ]
  },
  {
   "cell_type": "code",
   "execution_count": 27,
   "id": "212d556e-e0db-4d7f-b25a-94ce55fd8f6c",
   "metadata": {},
   "outputs": [],
   "source": [
    "fname=file_path +r'\\crsp_out_data.txt'"
   ]
  },
  {
   "cell_type": "code",
   "execution_count": 28,
   "id": "d57e8179-e9dc-40dd-8e3d-55f31793ee40",
   "metadata": {},
   "outputs": [
    {
     "name": "stdout",
     "output_type": "stream",
     "text": [
      "File saved to C:\\Users\\saina\\Downloads\\crsp_out_data.txt\n"
     ]
    }
   ],
   "source": [
    "import os\n",
    "\n",
    "file_path = r\"C:\\Users\\saina\\Downloads\\crsp_out_data.txt\"\n",
    "# Check if the directory exists\n",
    "if not os.path.exists(os.path.dirname(file_path)):\n",
    "    print(f\"The directory {os.path.dirname(file_path)} does not exist.\")\n",
    "else:\n",
    "    # Save the DataFrame to a TXT file\n",
    "    crsp_out.to_csv(file_path, header=False, index=False, sep=' ')\n",
    "    print(f\"File saved to {file_path}\")"
   ]
  },
  {
   "cell_type": "code",
   "execution_count": 29,
   "id": "f031f714-ac6d-49c0-b603-6404a862bdab",
   "metadata": {},
   "outputs": [],
   "source": [
    "# Part 3\n"
   ]
  },
  {
   "cell_type": "code",
   "execution_count": 30,
   "id": "cae6c1c6-9a90-4f93-80be-df0889848ab4",
   "metadata": {},
   "outputs": [],
   "source": [
    "url = 'https://github.com/sainarra16/Petroleum/blob/main/Petroleum.csv?raw=True'"
   ]
  },
  {
   "cell_type": "code",
   "execution_count": 31,
   "id": "b06ae4be-a953-481c-ad73-7d532fe58177",
   "metadata": {},
   "outputs": [
    {
     "data": {
      "text/html": [
       "<div>\n",
       "<style scoped>\n",
       "    .dataframe tbody tr th:only-of-type {\n",
       "        vertical-align: middle;\n",
       "    }\n",
       "\n",
       "    .dataframe tbody tr th {\n",
       "        vertical-align: top;\n",
       "    }\n",
       "\n",
       "    .dataframe thead th {\n",
       "        text-align: right;\n",
       "    }\n",
       "</style>\n",
       "<table border=\"1\" class=\"dataframe\">\n",
       "  <thead>\n",
       "    <tr style=\"text-align: right;\">\n",
       "      <th></th>\n",
       "      <th>Model</th>\n",
       "      <th>permno</th>\n",
       "      <th>evtdate</th>\n",
       "      <th>cret</th>\n",
       "      <th>car</th>\n",
       "      <th>bhar</th>\n",
       "      <th>nrets</th>\n",
       "      <th>nrets_est</th>\n",
       "    </tr>\n",
       "  </thead>\n",
       "  <tbody>\n",
       "    <tr>\n",
       "      <th>0</th>\n",
       "      <td>Market-Adjusted Model</td>\n",
       "      <td>10026</td>\n",
       "      <td>2023-10-09</td>\n",
       "      <td>-0.088745</td>\n",
       "      <td>-0.065947</td>\n",
       "      <td>-0.063138</td>\n",
       "      <td>21</td>\n",
       "      <td>100</td>\n",
       "    </tr>\n",
       "    <tr>\n",
       "      <th>1</th>\n",
       "      <td>Market-Adjusted Model</td>\n",
       "      <td>10028</td>\n",
       "      <td>2023-10-09</td>\n",
       "      <td>-0.201597</td>\n",
       "      <td>-0.195867</td>\n",
       "      <td>-0.175989</td>\n",
       "      <td>21</td>\n",
       "      <td>100</td>\n",
       "    </tr>\n",
       "    <tr>\n",
       "      <th>2</th>\n",
       "      <td>Market-Adjusted Model</td>\n",
       "      <td>10032</td>\n",
       "      <td>2023-10-09</td>\n",
       "      <td>-0.010968</td>\n",
       "      <td>0.015668</td>\n",
       "      <td>0.014639</td>\n",
       "      <td>21</td>\n",
       "      <td>100</td>\n",
       "    </tr>\n",
       "    <tr>\n",
       "      <th>3</th>\n",
       "      <td>Market-Adjusted Model</td>\n",
       "      <td>10044</td>\n",
       "      <td>2023-10-09</td>\n",
       "      <td>-0.147368</td>\n",
       "      <td>-0.129721</td>\n",
       "      <td>-0.121761</td>\n",
       "      <td>21</td>\n",
       "      <td>100</td>\n",
       "    </tr>\n",
       "    <tr>\n",
       "      <th>4</th>\n",
       "      <td>Market-Adjusted Model</td>\n",
       "      <td>10065</td>\n",
       "      <td>2023-10-09</td>\n",
       "      <td>-0.031953</td>\n",
       "      <td>-0.006610</td>\n",
       "      <td>-0.006345</td>\n",
       "      <td>21</td>\n",
       "      <td>100</td>\n",
       "    </tr>\n",
       "  </tbody>\n",
       "</table>\n",
       "</div>"
      ],
      "text/plain": [
       "                   Model  permno     evtdate      cret       car      bhar  \\\n",
       "0  Market-Adjusted Model   10026  2023-10-09 -0.088745 -0.065947 -0.063138   \n",
       "1  Market-Adjusted Model   10028  2023-10-09 -0.201597 -0.195867 -0.175989   \n",
       "2  Market-Adjusted Model   10032  2023-10-09 -0.010968  0.015668  0.014639   \n",
       "3  Market-Adjusted Model   10044  2023-10-09 -0.147368 -0.129721 -0.121761   \n",
       "4  Market-Adjusted Model   10065  2023-10-09 -0.031953 -0.006610 -0.006345   \n",
       "\n",
       "   nrets  nrets_est  \n",
       "0     21        100  \n",
       "1     21        100  \n",
       "2     21        100  \n",
       "3     21        100  \n",
       "4     21        100  "
      ]
     },
     "execution_count": 31,
     "metadata": {},
     "output_type": "execute_result"
    }
   ],
   "source": [
    "abcar=pd.read_csv(url)\n",
    "abcar.head()"
   ]
  },
  {
   "cell_type": "code",
   "execution_count": 32,
   "id": "bba0b037-6c65-48d7-be62-3eaa67c0252c",
   "metadata": {},
   "outputs": [
    {
     "data": {
      "text/plain": [
       "0       False\n",
       "1       False\n",
       "2       False\n",
       "3       False\n",
       "4       False\n",
       "        ...  \n",
       "9109    False\n",
       "9110    False\n",
       "9111    False\n",
       "9112    False\n",
       "9113    False\n",
       "Length: 9114, dtype: bool"
      ]
     },
     "execution_count": 32,
     "metadata": {},
     "output_type": "execute_result"
    }
   ],
   "source": [
    "abcar.duplicated(['permno'])"
   ]
  },
  {
   "cell_type": "code",
   "execution_count": 33,
   "id": "792c8cc8-e988-47ab-8c62-210203a1ae90",
   "metadata": {},
   "outputs": [
    {
     "data": {
      "text/plain": [
       "9114"
      ]
     },
     "execution_count": 33,
     "metadata": {},
     "output_type": "execute_result"
    }
   ],
   "source": [
    "abcar['permno'].nunique()"
   ]
  },
  {
   "cell_type": "code",
   "execution_count": 34,
   "id": "4f15c2f4-8682-401e-8df5-121307c18aea",
   "metadata": {},
   "outputs": [
    {
     "data": {
      "text/html": [
       "<div>\n",
       "<style scoped>\n",
       "    .dataframe tbody tr th:only-of-type {\n",
       "        vertical-align: middle;\n",
       "    }\n",
       "\n",
       "    .dataframe tbody tr th {\n",
       "        vertical-align: top;\n",
       "    }\n",
       "\n",
       "    .dataframe thead th {\n",
       "        text-align: right;\n",
       "    }\n",
       "</style>\n",
       "<table border=\"1\" class=\"dataframe\">\n",
       "  <thead>\n",
       "    <tr style=\"text-align: right;\">\n",
       "      <th></th>\n",
       "      <th>Model</th>\n",
       "      <th>permno</th>\n",
       "      <th>evtdate</th>\n",
       "      <th>cret</th>\n",
       "      <th>car</th>\n",
       "      <th>bhar</th>\n",
       "      <th>nrets</th>\n",
       "      <th>nrets_est</th>\n",
       "      <th>siccd</th>\n",
       "      <th>ticker</th>\n",
       "      <th>comnam</th>\n",
       "      <th>cusip</th>\n",
       "      <th>namedt</th>\n",
       "    </tr>\n",
       "  </thead>\n",
       "  <tbody>\n",
       "    <tr>\n",
       "      <th>0</th>\n",
       "      <td>Market-Adjusted Model</td>\n",
       "      <td>10026</td>\n",
       "      <td>2023-10-09</td>\n",
       "      <td>-0.088745</td>\n",
       "      <td>-0.065947</td>\n",
       "      <td>-0.063138</td>\n",
       "      <td>21</td>\n",
       "      <td>100</td>\n",
       "      <td>2050</td>\n",
       "      <td>JJSF</td>\n",
       "      <td>J &amp; J SNACK FOODS CORP</td>\n",
       "      <td>46603210</td>\n",
       "      <td>1986-02-04</td>\n",
       "    </tr>\n",
       "    <tr>\n",
       "      <th>1</th>\n",
       "      <td>Market-Adjusted Model</td>\n",
       "      <td>10026</td>\n",
       "      <td>2023-10-09</td>\n",
       "      <td>-0.088745</td>\n",
       "      <td>-0.065947</td>\n",
       "      <td>-0.063138</td>\n",
       "      <td>21</td>\n",
       "      <td>100</td>\n",
       "      <td>2052</td>\n",
       "      <td>JJSF</td>\n",
       "      <td>J &amp; J SNACK FOODS CORP</td>\n",
       "      <td>46603210</td>\n",
       "      <td>2000-08-01</td>\n",
       "    </tr>\n",
       "    <tr>\n",
       "      <th>2</th>\n",
       "      <td>Market-Adjusted Model</td>\n",
       "      <td>10028</td>\n",
       "      <td>2023-10-09</td>\n",
       "      <td>-0.201597</td>\n",
       "      <td>-0.195867</td>\n",
       "      <td>-0.175989</td>\n",
       "      <td>21</td>\n",
       "      <td>100</td>\n",
       "      <td>1380</td>\n",
       "      <td>MINT</td>\n",
       "      <td>CANYON STATE CORP</td>\n",
       "      <td>29402E10</td>\n",
       "      <td>1986-02-05</td>\n",
       "    </tr>\n",
       "    <tr>\n",
       "      <th>3</th>\n",
       "      <td>Market-Adjusted Model</td>\n",
       "      <td>10028</td>\n",
       "      <td>2023-10-09</td>\n",
       "      <td>-0.201597</td>\n",
       "      <td>-0.195867</td>\n",
       "      <td>-0.175989</td>\n",
       "      <td>21</td>\n",
       "      <td>100</td>\n",
       "      <td>1380</td>\n",
       "      <td>MINT</td>\n",
       "      <td>AMERICAN PACIFIC MINT INC</td>\n",
       "      <td>29402E10</td>\n",
       "      <td>1986-06-25</td>\n",
       "    </tr>\n",
       "    <tr>\n",
       "      <th>4</th>\n",
       "      <td>Market-Adjusted Model</td>\n",
       "      <td>10028</td>\n",
       "      <td>2023-10-09</td>\n",
       "      <td>-0.201597</td>\n",
       "      <td>-0.195867</td>\n",
       "      <td>-0.175989</td>\n",
       "      <td>21</td>\n",
       "      <td>100</td>\n",
       "      <td>3340</td>\n",
       "      <td>MINT</td>\n",
       "      <td>AMERICAN PACIFIC MINT INC</td>\n",
       "      <td>29402E10</td>\n",
       "      <td>1988-02-01</td>\n",
       "    </tr>\n",
       "  </tbody>\n",
       "</table>\n",
       "</div>"
      ],
      "text/plain": [
       "                   Model  permno     evtdate      cret       car      bhar  \\\n",
       "0  Market-Adjusted Model   10026  2023-10-09 -0.088745 -0.065947 -0.063138   \n",
       "1  Market-Adjusted Model   10026  2023-10-09 -0.088745 -0.065947 -0.063138   \n",
       "2  Market-Adjusted Model   10028  2023-10-09 -0.201597 -0.195867 -0.175989   \n",
       "3  Market-Adjusted Model   10028  2023-10-09 -0.201597 -0.195867 -0.175989   \n",
       "4  Market-Adjusted Model   10028  2023-10-09 -0.201597 -0.195867 -0.175989   \n",
       "\n",
       "   nrets  nrets_est  siccd ticker                     comnam     cusip  \\\n",
       "0     21        100   2050   JJSF     J & J SNACK FOODS CORP  46603210   \n",
       "1     21        100   2052   JJSF     J & J SNACK FOODS CORP  46603210   \n",
       "2     21        100   1380   MINT          CANYON STATE CORP  29402E10   \n",
       "3     21        100   1380   MINT  AMERICAN PACIFIC MINT INC  29402E10   \n",
       "4     21        100   3340   MINT  AMERICAN PACIFIC MINT INC  29402E10   \n",
       "\n",
       "       namedt  \n",
       "0  1986-02-04  \n",
       "1  2000-08-01  \n",
       "2  1986-02-05  \n",
       "3  1986-06-25  \n",
       "4  1988-02-01  "
      ]
     },
     "execution_count": 34,
     "metadata": {},
     "output_type": "execute_result"
    }
   ],
   "source": [
    "crsp=abcar.merge(info_crsp,how=\"inner\",on='permno')\n",
    "crsp.head()"
   ]
  },
  {
   "cell_type": "code",
   "execution_count": 35,
   "id": "e2bd2b24-cb82-436c-8687-9bf22d1c3641",
   "metadata": {},
   "outputs": [],
   "source": [
    "# 5) This is cross-sectional data as it captures different entities (by permno) at a same date (2022-11-30).\n",
    "# Without multiple dates per entry, it doesn’t seems as panel data."
   ]
  },
  {
   "cell_type": "code",
   "execution_count": 36,
   "id": "e5cdb972-0dd9-4784-b549-7188f6a32c29",
   "metadata": {},
   "outputs": [],
   "source": [
    "# Part 4"
   ]
  },
  {
   "cell_type": "code",
   "execution_count": 37,
   "id": "22900f85-cd5a-453a-8497-e93a051e7bc7",
   "metadata": {},
   "outputs": [
    {
     "data": {
      "text/html": [
       "<div>\n",
       "<style scoped>\n",
       "    .dataframe tbody tr th:only-of-type {\n",
       "        vertical-align: middle;\n",
       "    }\n",
       "\n",
       "    .dataframe tbody tr th {\n",
       "        vertical-align: top;\n",
       "    }\n",
       "\n",
       "    .dataframe thead th {\n",
       "        text-align: right;\n",
       "    }\n",
       "</style>\n",
       "<table border=\"1\" class=\"dataframe\">\n",
       "  <thead>\n",
       "    <tr style=\"text-align: right;\">\n",
       "      <th></th>\n",
       "      <th>Model</th>\n",
       "      <th>permno</th>\n",
       "      <th>evtdate</th>\n",
       "      <th>cret</th>\n",
       "      <th>car</th>\n",
       "      <th>bhar</th>\n",
       "      <th>nrets</th>\n",
       "      <th>nrets_est</th>\n",
       "      <th>siccd</th>\n",
       "      <th>ticker</th>\n",
       "      <th>comnam</th>\n",
       "      <th>cusip</th>\n",
       "      <th>namedt</th>\n",
       "    </tr>\n",
       "  </thead>\n",
       "  <tbody>\n",
       "    <tr>\n",
       "      <th>0</th>\n",
       "      <td>Market-Adjusted Model</td>\n",
       "      <td>10026</td>\n",
       "      <td>2023-10-09</td>\n",
       "      <td>-0.088745</td>\n",
       "      <td>-0.065947</td>\n",
       "      <td>-0.063138</td>\n",
       "      <td>21</td>\n",
       "      <td>100</td>\n",
       "      <td>2050</td>\n",
       "      <td>JJSF</td>\n",
       "      <td>J &amp; J SNACK FOODS CORP</td>\n",
       "      <td>46603210</td>\n",
       "      <td>1986-02-04</td>\n",
       "    </tr>\n",
       "  </tbody>\n",
       "</table>\n",
       "</div>"
      ],
      "text/plain": [
       "                   Model  permno     evtdate      cret       car      bhar  \\\n",
       "0  Market-Adjusted Model   10026  2023-10-09 -0.088745 -0.065947 -0.063138   \n",
       "\n",
       "   nrets  nrets_est  siccd ticker                  comnam     cusip  \\\n",
       "0     21        100   2050   JJSF  J & J SNACK FOODS CORP  46603210   \n",
       "\n",
       "       namedt  \n",
       "0  1986-02-04  "
      ]
     },
     "execution_count": 37,
     "metadata": {},
     "output_type": "execute_result"
    }
   ],
   "source": [
    "crsp.head(1)"
   ]
  },
  {
   "cell_type": "code",
   "execution_count": 45,
   "id": "95f3b798-a904-4eab-89cf-4422f4241f12",
   "metadata": {},
   "outputs": [
    {
     "data": {
      "text/html": [
       "<div>\n",
       "<style scoped>\n",
       "    .dataframe tbody tr th:only-of-type {\n",
       "        vertical-align: middle;\n",
       "    }\n",
       "\n",
       "    .dataframe tbody tr th {\n",
       "        vertical-align: top;\n",
       "    }\n",
       "\n",
       "    .dataframe thead th {\n",
       "        text-align: right;\n",
       "    }\n",
       "</style>\n",
       "<table border=\"1\" class=\"dataframe\">\n",
       "  <thead>\n",
       "    <tr style=\"text-align: right;\">\n",
       "      <th></th>\n",
       "      <th>Model</th>\n",
       "      <th>permno</th>\n",
       "      <th>evtdate</th>\n",
       "      <th>cret</th>\n",
       "      <th>car</th>\n",
       "      <th>bhar</th>\n",
       "      <th>nrets</th>\n",
       "      <th>nrets_est</th>\n",
       "      <th>siccd</th>\n",
       "      <th>ticker</th>\n",
       "      <th>comnam</th>\n",
       "      <th>cusip</th>\n",
       "      <th>namedt</th>\n",
       "    </tr>\n",
       "  </thead>\n",
       "  <tbody>\n",
       "    <tr>\n",
       "      <th>0</th>\n",
       "      <td>Market-Adjusted Model</td>\n",
       "      <td>10026</td>\n",
       "      <td>2023-10-09</td>\n",
       "      <td>-0.088745</td>\n",
       "      <td>-0.065947</td>\n",
       "      <td>-0.063138</td>\n",
       "      <td>21</td>\n",
       "      <td>100</td>\n",
       "      <td>2050</td>\n",
       "      <td>JJSF</td>\n",
       "      <td>J &amp; J SNACK FOODS CORP</td>\n",
       "      <td>46603210</td>\n",
       "      <td>1986-02-04</td>\n",
       "    </tr>\n",
       "    <tr>\n",
       "      <th>1</th>\n",
       "      <td>Market-Adjusted Model</td>\n",
       "      <td>10026</td>\n",
       "      <td>2023-10-09</td>\n",
       "      <td>-0.088745</td>\n",
       "      <td>-0.065947</td>\n",
       "      <td>-0.063138</td>\n",
       "      <td>21</td>\n",
       "      <td>100</td>\n",
       "      <td>2052</td>\n",
       "      <td>JJSF</td>\n",
       "      <td>J &amp; J SNACK FOODS CORP</td>\n",
       "      <td>46603210</td>\n",
       "      <td>2000-08-01</td>\n",
       "    </tr>\n",
       "    <tr>\n",
       "      <th>2</th>\n",
       "      <td>Market-Adjusted Model</td>\n",
       "      <td>10028</td>\n",
       "      <td>2023-10-09</td>\n",
       "      <td>-0.201597</td>\n",
       "      <td>-0.195867</td>\n",
       "      <td>-0.175989</td>\n",
       "      <td>21</td>\n",
       "      <td>100</td>\n",
       "      <td>1380</td>\n",
       "      <td>MINT</td>\n",
       "      <td>CANYON STATE CORP</td>\n",
       "      <td>29402E10</td>\n",
       "      <td>1986-02-05</td>\n",
       "    </tr>\n",
       "    <tr>\n",
       "      <th>3</th>\n",
       "      <td>Market-Adjusted Model</td>\n",
       "      <td>10028</td>\n",
       "      <td>2023-10-09</td>\n",
       "      <td>-0.201597</td>\n",
       "      <td>-0.195867</td>\n",
       "      <td>-0.175989</td>\n",
       "      <td>21</td>\n",
       "      <td>100</td>\n",
       "      <td>1380</td>\n",
       "      <td>MINT</td>\n",
       "      <td>AMERICAN PACIFIC MINT INC</td>\n",
       "      <td>29402E10</td>\n",
       "      <td>1986-06-25</td>\n",
       "    </tr>\n",
       "    <tr>\n",
       "      <th>4</th>\n",
       "      <td>Market-Adjusted Model</td>\n",
       "      <td>10028</td>\n",
       "      <td>2023-10-09</td>\n",
       "      <td>-0.201597</td>\n",
       "      <td>-0.195867</td>\n",
       "      <td>-0.175989</td>\n",
       "      <td>21</td>\n",
       "      <td>100</td>\n",
       "      <td>3340</td>\n",
       "      <td>MINT</td>\n",
       "      <td>AMERICAN PACIFIC MINT INC</td>\n",
       "      <td>29402E10</td>\n",
       "      <td>1988-02-01</td>\n",
       "    </tr>\n",
       "  </tbody>\n",
       "</table>\n",
       "</div>"
      ],
      "text/plain": [
       "                   Model  permno     evtdate      cret       car      bhar  \\\n",
       "0  Market-Adjusted Model   10026  2023-10-09 -0.088745 -0.065947 -0.063138   \n",
       "1  Market-Adjusted Model   10026  2023-10-09 -0.088745 -0.065947 -0.063138   \n",
       "2  Market-Adjusted Model   10028  2023-10-09 -0.201597 -0.195867 -0.175989   \n",
       "3  Market-Adjusted Model   10028  2023-10-09 -0.201597 -0.195867 -0.175989   \n",
       "4  Market-Adjusted Model   10028  2023-10-09 -0.201597 -0.195867 -0.175989   \n",
       "\n",
       "   nrets  nrets_est  siccd ticker                     comnam     cusip  \\\n",
       "0     21        100   2050   JJSF     J & J SNACK FOODS CORP  46603210   \n",
       "1     21        100   2052   JJSF     J & J SNACK FOODS CORP  46603210   \n",
       "2     21        100   1380   MINT          CANYON STATE CORP  29402E10   \n",
       "3     21        100   1380   MINT  AMERICAN PACIFIC MINT INC  29402E10   \n",
       "4     21        100   3340   MINT  AMERICAN PACIFIC MINT INC  29402E10   \n",
       "\n",
       "       namedt  \n",
       "0  1986-02-04  \n",
       "1  2000-08-01  \n",
       "2  1986-02-05  \n",
       "3  1986-06-25  \n",
       "4  1988-02-01  "
      ]
     },
     "execution_count": 45,
     "metadata": {},
     "output_type": "execute_result"
    }
   ],
   "source": [
    "crsp=abcar.merge(info_crsp,how=\"inner\",on='permno')\n",
    "crsp.head()"
   ]
  },
  {
   "cell_type": "code",
   "execution_count": 46,
   "id": "90401a60-5adb-4c6c-99ac-1f2045794ee6",
   "metadata": {},
   "outputs": [
    {
     "name": "stdout",
     "output_type": "stream",
     "text": [
      "<class 'pandas.core.frame.DataFrame'>\n",
      "RangeIndex: 9114 entries, 0 to 9113\n",
      "Data columns (total 8 columns):\n",
      " #   Column     Non-Null Count  Dtype  \n",
      "---  ------     --------------  -----  \n",
      " 0   Model      9114 non-null   object \n",
      " 1   permno     9114 non-null   int64  \n",
      " 2   evtdate    9114 non-null   object \n",
      " 3   cret       9113 non-null   float64\n",
      " 4   car        9113 non-null   float64\n",
      " 5   bhar       9113 non-null   float64\n",
      " 6   nrets      9114 non-null   int64  \n",
      " 7   nrets_est  9114 non-null   int64  \n",
      "dtypes: float64(3), int64(3), object(2)\n",
      "memory usage: 569.8+ KB\n"
     ]
    }
   ],
   "source": [
    "abcar.info()"
   ]
  },
  {
   "cell_type": "code",
   "execution_count": 40,
   "id": "b64fdcf6-faec-43f1-847c-a4468622e7cb",
   "metadata": {},
   "outputs": [],
   "source": [
    "# 4.) The relationship between part 1 and part 3 is one-to-onefor each permno in part 1 corresponds to a single entry in part 3,with no repetitions.\n",
    "# As permno serves as unique idenifier.If permno appears multiple times in two datasets the relationship could be one-to-many or many-to-many."
   ]
  },
  {
   "cell_type": "code",
   "execution_count": 41,
   "id": "b8d7752d-69ad-485c-ba6b-06f31fc88dbc",
   "metadata": {},
   "outputs": [],
   "source": [
    "# 5) In Step 1 of part 4, the merging strategy was chosen based on the nature of the data and\n",
    "# the desired outcome of combining multiple datasets."
   ]
  },
  {
   "cell_type": "code",
   "execution_count": 42,
   "id": "3167d8f0-6f70-4977-b3c8-ef556d7d8bc6",
   "metadata": {},
   "outputs": [],
   "source": [
    "#  6) To classify data as cross-sectional, time series, or panel, we look at whether it includes multiple entities at one time (cross-sectional), repeated observations of one entity over time (time series),\n",
    "# or multiple entities observed over time (panel data). \n",
    "# Cross-sectional data captures a snapshot of different entities at a single time. \n",
    "# Time series involves repeated observations of one entity over time, while panel data tracks multiple entities across multiple time points.\n",
    "# The classification depends on how the data is structured."
   ]
  },
  {
   "cell_type": "code",
   "execution_count": 47,
   "id": "45aef9c9-325e-4dea-9e84-320791e48ac5",
   "metadata": {},
   "outputs": [],
   "source": [
    "# collecting compustat data\n",
    "\n",
    "comp = conn.raw_sql('''select sich, gvkey, datadate, conm, revt, ni from comp.funda \n",
    "                        where datafmt = 'STD' and consol = 'C'and indfmt = 'INDL'\n",
    "                        ''', date_cols=['datadate'])\n",
    "#generating year\n",
    "comp['year']=pd.DatetimeIndex(comp['datadate']).year\n",
    "\n",
    "#linkage\n",
    "url='https://github.com/kyoon5/shared/blob/main/link.csv?raw=true'\n",
    "link=pd.read_csv(url)\n",
    "link['gvkey'] = link['gvkey'].astype(str).str.zfill(6)\n",
    "link['linkdt']=pd.to_datetime(link['linkdt'])\n",
    "link['linkenddt']=pd.to_datetime(link['linkenddt'])\n",
    "\n",
    "#adding permno for crsp data\n",
    "comp2 = (\n",
    "    comp.merge(link, how='inner', on='gvkey')  # Join on gvkey\n",
    "    .query(\"datadate >= linkdt and (datadate <= linkenddt or linkenddt.isna())\")  # Apply date range filter\n",
    "    .assign(permno=lambda x: x['lpermno'])  # Select permno\n",
    "    .sort_values(['gvkey', 'datadate'])  # Sort by gvkey and datadate\n",
    ")\n",
    "\n",
    "comp2=comp2[['sich', 'gvkey','datadate','conm','revt','ni','year','permno']]"
   ]
  },
  {
   "cell_type": "code",
   "execution_count": 48,
   "id": "fea8670b-0832-44bb-9914-695fd8902216",
   "metadata": {},
   "outputs": [],
   "source": [
    "crsp['year']=pd.DatetimeIndex(crsp['evtdate']).year"
   ]
  },
  {
   "cell_type": "code",
   "execution_count": 49,
   "id": "be6187f9-8cb8-4cff-8e42-f276368e73b8",
   "metadata": {},
   "outputs": [
    {
     "name": "stdout",
     "output_type": "stream",
     "text": [
      "<class 'pandas.core.frame.DataFrame'>\n",
      "RangeIndex: 15991 entries, 0 to 15990\n",
      "Data columns (total 20 columns):\n",
      " #   Column     Non-Null Count  Dtype         \n",
      "---  ------     --------------  -----         \n",
      " 0   Model      15991 non-null  object        \n",
      " 1   permno     15991 non-null  int64         \n",
      " 2   evtdate    15991 non-null  object        \n",
      " 3   cret       15991 non-null  float64       \n",
      " 4   car        15991 non-null  float64       \n",
      " 5   bhar       15991 non-null  float64       \n",
      " 6   nrets      15991 non-null  int64         \n",
      " 7   nrets_est  15991 non-null  int64         \n",
      " 8   siccd      15991 non-null  int64         \n",
      " 9   ticker     15381 non-null  object        \n",
      " 10  comnam     15991 non-null  object        \n",
      " 11  cusip      15991 non-null  object        \n",
      " 12  namedt     15991 non-null  object        \n",
      " 13  year       15991 non-null  int32         \n",
      " 14  sich       14474 non-null  float64       \n",
      " 15  gvkey      15991 non-null  object        \n",
      " 16  datadate   15991 non-null  datetime64[ns]\n",
      " 17  conm       15991 non-null  object        \n",
      " 18  revt       14734 non-null  float64       \n",
      " 19  ni         14734 non-null  float64       \n",
      "dtypes: datetime64[ns](1), float64(6), int32(1), int64(4), object(8)\n",
      "memory usage: 2.4+ MB\n"
     ]
    }
   ],
   "source": [
    "crsp_comp=crsp.merge(comp2,how=\"inner\",on=['permno','year'])\n",
    "crsp_comp.info()"
   ]
  },
  {
   "cell_type": "code",
   "execution_count": 50,
   "id": "70e14095-3f7e-4eff-999b-92272fd0ab45",
   "metadata": {},
   "outputs": [],
   "source": [
    "import numpy as np "
   ]
  },
  {
   "cell_type": "code",
   "execution_count": 51,
   "id": "2ee26a6f-a27a-4afc-826e-8a2a4d2bbf45",
   "metadata": {},
   "outputs": [],
   "source": [
    "crsp_comp['energy']=np.where((crsp_comp['siccd']>= 2909)&(crsp_comp['siccd']<=2911),True,False)"
   ]
  },
  {
   "cell_type": "code",
   "execution_count": 52,
   "id": "d79f559f-9ba7-43a3-a3b0-065c85c6c5e0",
   "metadata": {},
   "outputs": [
    {
     "data": {
      "text/plain": [
       "energy\n",
       "False    15914\n",
       "True        77\n",
       "Name: count, dtype: int64"
      ]
     },
     "execution_count": 52,
     "metadata": {},
     "output_type": "execute_result"
    }
   ],
   "source": [
    "crsp_comp['energy'].value_counts()"
   ]
  },
  {
   "cell_type": "code",
   "execution_count": 53,
   "id": "9e790391-29a5-45bf-860b-7f00bebafa39",
   "metadata": {},
   "outputs": [],
   "source": [
    "import pickle"
   ]
  },
  {
   "cell_type": "code",
   "execution_count": 54,
   "id": "2cf9b2e7-3005-45ce-b84c-519ca0365ebf",
   "metadata": {},
   "outputs": [],
   "source": [
    "# Save multiple DataFrames in a dictionary\n",
    "data = {'info_crsp': info_crsp, 'crsp': crsp, 'crsp_comp':crsp_comp}"
   ]
  },
  {
   "cell_type": "code",
   "execution_count": 55,
   "id": "0377328e-882a-4464-873a-ab7b3e130dc1",
   "metadata": {},
   "outputs": [],
   "source": [
    "loc=r\"C:\\Users\\saina\\Downloads\""
   ]
  },
  {
   "cell_type": "code",
   "execution_count": 56,
   "id": "9f818d37-9bb6-47cb-bb35-e3907aca2c50",
   "metadata": {},
   "outputs": [],
   "source": [
    "fname=loc+'\\\\assignment6.pkl'"
   ]
  },
  {
   "cell_type": "code",
   "execution_count": 57,
   "id": "b5aff502-cf38-4fdd-8104-98de12d10c99",
   "metadata": {},
   "outputs": [],
   "source": [
    "with open(fname, 'wb') as file: \n",
    "    pickle.dump(data, file)"
   ]
  }
 ],
 "metadata": {
  "kernelspec": {
   "display_name": "Python 3 (ipykernel)",
   "language": "python",
   "name": "python3"
  },
  "language_info": {
   "codemirror_mode": {
    "name": "ipython",
    "version": 3
   },
   "file_extension": ".py",
   "mimetype": "text/x-python",
   "name": "python",
   "nbconvert_exporter": "python",
   "pygments_lexer": "ipython3",
   "version": "3.12.4"
  }
 },
 "nbformat": 4,
 "nbformat_minor": 5
}
